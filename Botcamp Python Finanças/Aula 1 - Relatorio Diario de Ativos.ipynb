{
 "cells": [
  {
   "cell_type": "markdown",
   "id": "7bec0308",
   "metadata": {},
   "source": [
    "# Projeto 1 - Relatório de fechamento de mercado por e-mail.\n",
    "\n",
    "\n",
    "### Desafio:\n",
    "\n",
    "* Construir um e-mail que chegue na caixa de entrada todos os dias com informações de fechamento do Ibovespa e dólar.\n",
    "\n",
    "### Passo a passo:\n",
    "\n",
    "   **Passo 1** - Importar os módulos e bibliotecas.\n",
    "   \n",
    "   **Passo 2** - Pegar dados do Ibovespa e do Dólar no Yahoo Finance.\n",
    "   \n",
    "   **Passo 3** - Manipular os dados para deixá-los nos formatos necessários para fazer as contas.\n",
    "   \n",
    "   **Passo 4** - Calcular o retorno diário, mensal e anual.\n",
    "   \n",
    "   **Passo 5** - Localizar, dentro das tabelas de retornos, os valores de fechamento de mercado que irão pro texto  anexado no e-mail.\n",
    "   \n",
    "   **Passo 6** - Fazer os gráficos dos ativos.\n",
    "   \n",
    "   **Passo 7** - Enviar o e-mail para brenno@varos.com.br\n"
   ]
  },
  {
   "cell_type": "code",
   "execution_count": 1,
   "id": "11e70f35",
   "metadata": {},
   "outputs": [
    {
     "name": "stdout",
     "output_type": "stream",
     "text": [
      "Requirement already satisfied: python-dotenv in c:\\users\\qy526ut\\anaconda3\\lib\\site-packages (1.0.0)\n"
     ]
    }
   ],
   "source": [
    "# Biblioteca que trabalha com uma forma de ocultar variaveis de ambiente sensiveis, como e-mail e senha\n",
    "\n",
    "!pip install python-dotenv"
   ]
  },
  {
   "cell_type": "code",
   "execution_count": 2,
   "id": "38282300",
   "metadata": {},
   "outputs": [
    {
     "name": "stdout",
     "output_type": "stream",
     "text": [
      "Requirement already satisfied: yfinance==0.1.74 in c:\\users\\qy526ut\\anaconda3\\lib\\site-packages (0.1.74)\n",
      "Requirement already satisfied: multitasking>=0.0.7 in c:\\users\\qy526ut\\anaconda3\\lib\\site-packages (from yfinance==0.1.74) (0.0.11)\n",
      "Requirement already satisfied: lxml>=4.5.1 in c:\\users\\qy526ut\\anaconda3\\lib\\site-packages (from yfinance==0.1.74) (4.9.2)\n",
      "Requirement already satisfied: pandas>=0.24.0 in c:\\users\\qy526ut\\anaconda3\\lib\\site-packages (from yfinance==0.1.74) (1.4.2)\n",
      "Requirement already satisfied: numpy>=1.15 in c:\\users\\qy526ut\\anaconda3\\lib\\site-packages (from yfinance==0.1.74) (1.21.5)\n",
      "Requirement already satisfied: requests>=2.26 in c:\\users\\qy526ut\\anaconda3\\lib\\site-packages (from yfinance==0.1.74) (2.27.1)\n",
      "Requirement already satisfied: pytz>=2020.1 in c:\\users\\qy526ut\\anaconda3\\lib\\site-packages (from pandas>=0.24.0->yfinance==0.1.74) (2023.3)\n",
      "Requirement already satisfied: python-dateutil>=2.8.1 in c:\\users\\qy526ut\\anaconda3\\lib\\site-packages (from pandas>=0.24.0->yfinance==0.1.74) (2.8.2)\n",
      "Requirement already satisfied: six>=1.5 in c:\\users\\qy526ut\\anaconda3\\lib\\site-packages (from python-dateutil>=2.8.1->pandas>=0.24.0->yfinance==0.1.74) (1.16.0)\n",
      "Requirement already satisfied: idna<4,>=2.5 in c:\\users\\qy526ut\\anaconda3\\lib\\site-packages (from requests>=2.26->yfinance==0.1.74) (3.3)\n",
      "Requirement already satisfied: certifi>=2017.4.17 in c:\\users\\qy526ut\\anaconda3\\lib\\site-packages (from requests>=2.26->yfinance==0.1.74) (2021.10.8)\n",
      "Requirement already satisfied: urllib3<1.27,>=1.21.1 in c:\\users\\qy526ut\\anaconda3\\lib\\site-packages (from requests>=2.26->yfinance==0.1.74) (1.26.9)\n",
      "Requirement already satisfied: charset-normalizer~=2.0.0 in c:\\users\\qy526ut\\anaconda3\\lib\\site-packages (from requests>=2.26->yfinance==0.1.74) (2.0.4)\n"
     ]
    }
   ],
   "source": [
    "# Biblioteca para importação de dados financeiros Yahoo Finance\n",
    "\n",
    "!pip install yfinance==0.1.74"
   ]
  },
  {
   "cell_type": "code",
   "execution_count": 3,
   "id": "3508c15f",
   "metadata": {},
   "outputs": [
    {
     "name": "stdout",
     "output_type": "stream",
     "text": [
      "Requirement already satisfied: mplcyberpunk in c:\\users\\qy526ut\\anaconda3\\lib\\site-packages (0.6.0)\n",
      "Requirement already satisfied: matplotlib in c:\\users\\qy526ut\\anaconda3\\lib\\site-packages (from mplcyberpunk) (3.5.1)\n",
      "Requirement already satisfied: python-dateutil>=2.7 in c:\\users\\qy526ut\\anaconda3\\lib\\site-packages (from matplotlib->mplcyberpunk) (2.8.2)\n",
      "Requirement already satisfied: cycler>=0.10 in c:\\users\\qy526ut\\anaconda3\\lib\\site-packages (from matplotlib->mplcyberpunk) (0.11.0)\n",
      "Requirement already satisfied: pyparsing>=2.2.1 in c:\\users\\qy526ut\\anaconda3\\lib\\site-packages (from matplotlib->mplcyberpunk) (3.0.4)\n",
      "Requirement already satisfied: pillow>=6.2.0 in c:\\users\\qy526ut\\anaconda3\\lib\\site-packages (from matplotlib->mplcyberpunk) (9.0.1)\n",
      "Requirement already satisfied: packaging>=20.0 in c:\\users\\qy526ut\\anaconda3\\lib\\site-packages (from matplotlib->mplcyberpunk) (21.3)\n",
      "Requirement already satisfied: fonttools>=4.22.0 in c:\\users\\qy526ut\\anaconda3\\lib\\site-packages (from matplotlib->mplcyberpunk) (4.25.0)\n",
      "Requirement already satisfied: numpy>=1.17 in c:\\users\\qy526ut\\anaconda3\\lib\\site-packages (from matplotlib->mplcyberpunk) (1.21.5)\n",
      "Requirement already satisfied: kiwisolver>=1.0.1 in c:\\users\\qy526ut\\anaconda3\\lib\\site-packages (from matplotlib->mplcyberpunk) (1.3.2)\n",
      "Requirement already satisfied: six>=1.5 in c:\\users\\qy526ut\\anaconda3\\lib\\site-packages (from python-dateutil>=2.7->matplotlib->mplcyberpunk) (1.16.0)\n"
     ]
    }
   ],
   "source": [
    "# Biblioteca para personalizar design dos graficos\n",
    "\n",
    "!pip install mplcyberpunk"
   ]
  },
  {
   "cell_type": "markdown",
   "id": "b3062fc8",
   "metadata": {},
   "source": [
    "# Passo 1: Importando os módulos necessários"
   ]
  },
  {
   "cell_type": "code",
   "execution_count": 4,
   "id": "024f9e7d",
   "metadata": {
    "scrolled": true
   },
   "outputs": [],
   "source": [
    "# Biblioteca que trabalha com dados e dataframes\n",
    "# Biblioteca que trabalha com datas\n",
    "# Importando a biblioteca do Yahoo\n",
    "# Biblioteca para plotar graficos\n",
    "# Importando a biblioteca baixada para personalizar graficos\n",
    "# Biblioteca que trabalha com auxilio para programação de envio de e-mails automaticos\n",
    "# Biblioteca que trabalha com auxilio para programação de envio de e-mails automaticos\n",
    "\n",
    "import pandas as pd\n",
    "import datetime\n",
    "import yfinance as yf\n",
    "from matplotlib import pyplot as plt\n",
    "import mplcyberpunk\n",
    "import smtplib\n",
    "from email.message import EmailMessage"
   ]
  },
  {
   "cell_type": "markdown",
   "id": "b752fa2c",
   "metadata": {},
   "source": [
    "# Passo 2: Pegar dados no Yahoo Finance"
   ]
  },
  {
   "cell_type": "code",
   "execution_count": 5,
   "id": "6f86aa7f",
   "metadata": {
    "scrolled": false
   },
   "outputs": [
    {
     "name": "stdout",
     "output_type": "stream",
     "text": [
      "Data de hoje:  2023-04-10 23:44:12.418309\n",
      "Um ano atrás:  2022-04-10 23:44:12.418309\n",
      "[*********************100%***********************]  2 of 2 completed\n"
     ]
    },
    {
     "data": {
      "text/html": [
       "<div>\n",
       "<style scoped>\n",
       "    .dataframe tbody tr th:only-of-type {\n",
       "        vertical-align: middle;\n",
       "    }\n",
       "\n",
       "    .dataframe tbody tr th {\n",
       "        vertical-align: top;\n",
       "    }\n",
       "\n",
       "    .dataframe thead tr th {\n",
       "        text-align: left;\n",
       "    }\n",
       "\n",
       "    .dataframe thead tr:last-of-type th {\n",
       "        text-align: right;\n",
       "    }\n",
       "</style>\n",
       "<table border=\"1\" class=\"dataframe\">\n",
       "  <thead>\n",
       "    <tr>\n",
       "      <th></th>\n",
       "      <th colspan=\"2\" halign=\"left\">Adj Close</th>\n",
       "      <th colspan=\"2\" halign=\"left\">Close</th>\n",
       "      <th colspan=\"2\" halign=\"left\">High</th>\n",
       "      <th colspan=\"2\" halign=\"left\">Low</th>\n",
       "      <th colspan=\"2\" halign=\"left\">Open</th>\n",
       "      <th colspan=\"2\" halign=\"left\">Volume</th>\n",
       "    </tr>\n",
       "    <tr>\n",
       "      <th></th>\n",
       "      <th>BRL=X</th>\n",
       "      <th>^BVSP</th>\n",
       "      <th>BRL=X</th>\n",
       "      <th>^BVSP</th>\n",
       "      <th>BRL=X</th>\n",
       "      <th>^BVSP</th>\n",
       "      <th>BRL=X</th>\n",
       "      <th>^BVSP</th>\n",
       "      <th>BRL=X</th>\n",
       "      <th>^BVSP</th>\n",
       "      <th>BRL=X</th>\n",
       "      <th>^BVSP</th>\n",
       "    </tr>\n",
       "    <tr>\n",
       "      <th>Date</th>\n",
       "      <th></th>\n",
       "      <th></th>\n",
       "      <th></th>\n",
       "      <th></th>\n",
       "      <th></th>\n",
       "      <th></th>\n",
       "      <th></th>\n",
       "      <th></th>\n",
       "      <th></th>\n",
       "      <th></th>\n",
       "      <th></th>\n",
       "      <th></th>\n",
       "    </tr>\n",
       "  </thead>\n",
       "  <tbody>\n",
       "    <tr>\n",
       "      <th>2022-04-11</th>\n",
       "      <td>4.6981</td>\n",
       "      <td>116953.0</td>\n",
       "      <td>4.6981</td>\n",
       "      <td>116953.0</td>\n",
       "      <td>4.7326</td>\n",
       "      <td>118320.0</td>\n",
       "      <td>4.684016</td>\n",
       "      <td>116953.0</td>\n",
       "      <td>4.6980</td>\n",
       "      <td>118320.0</td>\n",
       "      <td>0</td>\n",
       "      <td>9558400.0</td>\n",
       "    </tr>\n",
       "    <tr>\n",
       "      <th>2022-04-12</th>\n",
       "      <td>4.6936</td>\n",
       "      <td>116147.0</td>\n",
       "      <td>4.6936</td>\n",
       "      <td>116147.0</td>\n",
       "      <td>4.6971</td>\n",
       "      <td>118615.0</td>\n",
       "      <td>4.621500</td>\n",
       "      <td>116054.0</td>\n",
       "      <td>4.6936</td>\n",
       "      <td>116963.0</td>\n",
       "      <td>0</td>\n",
       "      <td>11406800.0</td>\n",
       "    </tr>\n",
       "    <tr>\n",
       "      <th>2022-04-13</th>\n",
       "      <td>4.6731</td>\n",
       "      <td>116782.0</td>\n",
       "      <td>4.6731</td>\n",
       "      <td>116782.0</td>\n",
       "      <td>4.7023</td>\n",
       "      <td>117329.0</td>\n",
       "      <td>4.653200</td>\n",
       "      <td>116150.0</td>\n",
       "      <td>4.6731</td>\n",
       "      <td>116150.0</td>\n",
       "      <td>0</td>\n",
       "      <td>12070500.0</td>\n",
       "    </tr>\n",
       "    <tr>\n",
       "      <th>2022-04-14</th>\n",
       "      <td>4.6902</td>\n",
       "      <td>116182.0</td>\n",
       "      <td>4.6902</td>\n",
       "      <td>116182.0</td>\n",
       "      <td>4.7381</td>\n",
       "      <td>116781.0</td>\n",
       "      <td>4.669788</td>\n",
       "      <td>115624.0</td>\n",
       "      <td>4.6902</td>\n",
       "      <td>116781.0</td>\n",
       "      <td>0</td>\n",
       "      <td>10365400.0</td>\n",
       "    </tr>\n",
       "    <tr>\n",
       "      <th>2022-04-15</th>\n",
       "      <td>4.7010</td>\n",
       "      <td>NaN</td>\n",
       "      <td>4.7010</td>\n",
       "      <td>NaN</td>\n",
       "      <td>4.7100</td>\n",
       "      <td>NaN</td>\n",
       "      <td>4.696500</td>\n",
       "      <td>NaN</td>\n",
       "      <td>4.7010</td>\n",
       "      <td>NaN</td>\n",
       "      <td>0</td>\n",
       "      <td>NaN</td>\n",
       "    </tr>\n",
       "    <tr>\n",
       "      <th>...</th>\n",
       "      <td>...</td>\n",
       "      <td>...</td>\n",
       "      <td>...</td>\n",
       "      <td>...</td>\n",
       "      <td>...</td>\n",
       "      <td>...</td>\n",
       "      <td>...</td>\n",
       "      <td>...</td>\n",
       "      <td>...</td>\n",
       "      <td>...</td>\n",
       "      <td>...</td>\n",
       "      <td>...</td>\n",
       "    </tr>\n",
       "    <tr>\n",
       "      <th>2023-04-04</th>\n",
       "      <td>5.0631</td>\n",
       "      <td>101869.0</td>\n",
       "      <td>5.0631</td>\n",
       "      <td>101869.0</td>\n",
       "      <td>5.0976</td>\n",
       "      <td>103056.0</td>\n",
       "      <td>5.048277</td>\n",
       "      <td>101505.0</td>\n",
       "      <td>5.0631</td>\n",
       "      <td>101505.0</td>\n",
       "      <td>0</td>\n",
       "      <td>11695800.0</td>\n",
       "    </tr>\n",
       "    <tr>\n",
       "      <th>2023-04-05</th>\n",
       "      <td>5.0707</td>\n",
       "      <td>100978.0</td>\n",
       "      <td>5.0707</td>\n",
       "      <td>100978.0</td>\n",
       "      <td>5.0743</td>\n",
       "      <td>101960.0</td>\n",
       "      <td>5.027504</td>\n",
       "      <td>99898.0</td>\n",
       "      <td>5.0707</td>\n",
       "      <td>101869.0</td>\n",
       "      <td>0</td>\n",
       "      <td>13256500.0</td>\n",
       "    </tr>\n",
       "    <tr>\n",
       "      <th>2023-04-06</th>\n",
       "      <td>5.0332</td>\n",
       "      <td>100822.0</td>\n",
       "      <td>5.0332</td>\n",
       "      <td>100822.0</td>\n",
       "      <td>5.0789</td>\n",
       "      <td>101628.0</td>\n",
       "      <td>5.028911</td>\n",
       "      <td>100443.0</td>\n",
       "      <td>5.0332</td>\n",
       "      <td>100978.0</td>\n",
       "      <td>0</td>\n",
       "      <td>9818500.0</td>\n",
       "    </tr>\n",
       "    <tr>\n",
       "      <th>2023-04-07</th>\n",
       "      <td>5.0583</td>\n",
       "      <td>NaN</td>\n",
       "      <td>5.0583</td>\n",
       "      <td>NaN</td>\n",
       "      <td>5.0585</td>\n",
       "      <td>NaN</td>\n",
       "      <td>5.004350</td>\n",
       "      <td>NaN</td>\n",
       "      <td>5.0583</td>\n",
       "      <td>NaN</td>\n",
       "      <td>0</td>\n",
       "      <td>NaN</td>\n",
       "    </tr>\n",
       "    <tr>\n",
       "      <th>2023-04-10</th>\n",
       "      <td>5.0544</td>\n",
       "      <td>101847.0</td>\n",
       "      <td>5.0544</td>\n",
       "      <td>101847.0</td>\n",
       "      <td>5.0887</td>\n",
       "      <td>102196.0</td>\n",
       "      <td>5.045100</td>\n",
       "      <td>100819.0</td>\n",
       "      <td>5.0544</td>\n",
       "      <td>100822.0</td>\n",
       "      <td>0</td>\n",
       "      <td>0.0</td>\n",
       "    </tr>\n",
       "  </tbody>\n",
       "</table>\n",
       "<p>261 rows × 12 columns</p>\n",
       "</div>"
      ],
      "text/plain": [
       "           Adj Close             Close              High                 Low  \\\n",
       "               BRL=X     ^BVSP   BRL=X     ^BVSP   BRL=X     ^BVSP     BRL=X   \n",
       "Date                                                                           \n",
       "2022-04-11    4.6981  116953.0  4.6981  116953.0  4.7326  118320.0  4.684016   \n",
       "2022-04-12    4.6936  116147.0  4.6936  116147.0  4.6971  118615.0  4.621500   \n",
       "2022-04-13    4.6731  116782.0  4.6731  116782.0  4.7023  117329.0  4.653200   \n",
       "2022-04-14    4.6902  116182.0  4.6902  116182.0  4.7381  116781.0  4.669788   \n",
       "2022-04-15    4.7010       NaN  4.7010       NaN  4.7100       NaN  4.696500   \n",
       "...              ...       ...     ...       ...     ...       ...       ...   \n",
       "2023-04-04    5.0631  101869.0  5.0631  101869.0  5.0976  103056.0  5.048277   \n",
       "2023-04-05    5.0707  100978.0  5.0707  100978.0  5.0743  101960.0  5.027504   \n",
       "2023-04-06    5.0332  100822.0  5.0332  100822.0  5.0789  101628.0  5.028911   \n",
       "2023-04-07    5.0583       NaN  5.0583       NaN  5.0585       NaN  5.004350   \n",
       "2023-04-10    5.0544  101847.0  5.0544  101847.0  5.0887  102196.0  5.045100   \n",
       "\n",
       "                        Open           Volume              \n",
       "               ^BVSP   BRL=X     ^BVSP  BRL=X       ^BVSP  \n",
       "Date                                                       \n",
       "2022-04-11  116953.0  4.6980  118320.0      0   9558400.0  \n",
       "2022-04-12  116054.0  4.6936  116963.0      0  11406800.0  \n",
       "2022-04-13  116150.0  4.6731  116150.0      0  12070500.0  \n",
       "2022-04-14  115624.0  4.6902  116781.0      0  10365400.0  \n",
       "2022-04-15       NaN  4.7010       NaN      0         NaN  \n",
       "...              ...     ...       ...    ...         ...  \n",
       "2023-04-04  101505.0  5.0631  101505.0      0  11695800.0  \n",
       "2023-04-05   99898.0  5.0707  101869.0      0  13256500.0  \n",
       "2023-04-06  100443.0  5.0332  100978.0      0   9818500.0  \n",
       "2023-04-07       NaN  5.0583       NaN      0         NaN  \n",
       "2023-04-10  100819.0  5.0544  100822.0      0         0.0  \n",
       "\n",
       "[261 rows x 12 columns]"
      ]
     },
     "metadata": {},
     "output_type": "display_data"
    }
   ],
   "source": [
    "# Criando lista de ativos que desejo\n",
    "ativos = [\"^BVSP\", \"BRL=X\"]\n",
    "\n",
    "# Pegando a data atual\n",
    "hoje = datetime.datetime.now()\n",
    "# Buscando a data de um ano atrás\n",
    "um_ano_atras = hoje - datetime.timedelta(days = 365)\n",
    "\n",
    "# Printando as datas\n",
    "print(\"Data de hoje: \", hoje)\n",
    "print(\"Um ano atrás: \", um_ano_atras)\n",
    "\n",
    "# Puxando tabela de dados dos ativos selecionados de um ano atrás até hoje.\n",
    "dados_mercado = yf.download(ativos, um_ano_atras, hoje)\n",
    "\n",
    "# display mostra de forma mais visual os dados, porém pode ser usado somente dentro do jupyter notebook\n",
    "display(dados_mercado)"
   ]
  },
  {
   "cell_type": "markdown",
   "id": "a43b1c2a",
   "metadata": {},
   "source": [
    "# Passo 3.1: Manipulando os dados - seleção e exclusão de dados "
   ]
  },
  {
   "cell_type": "code",
   "execution_count": 6,
   "id": "632c5475",
   "metadata": {},
   "outputs": [
    {
     "data": {
      "text/html": [
       "<div>\n",
       "<style scoped>\n",
       "    .dataframe tbody tr th:only-of-type {\n",
       "        vertical-align: middle;\n",
       "    }\n",
       "\n",
       "    .dataframe tbody tr th {\n",
       "        vertical-align: top;\n",
       "    }\n",
       "\n",
       "    .dataframe thead th {\n",
       "        text-align: right;\n",
       "    }\n",
       "</style>\n",
       "<table border=\"1\" class=\"dataframe\">\n",
       "  <thead>\n",
       "    <tr style=\"text-align: right;\">\n",
       "      <th></th>\n",
       "      <th>dolar</th>\n",
       "      <th>ibovespa</th>\n",
       "    </tr>\n",
       "    <tr>\n",
       "      <th>Date</th>\n",
       "      <th></th>\n",
       "      <th></th>\n",
       "    </tr>\n",
       "  </thead>\n",
       "  <tbody>\n",
       "    <tr>\n",
       "      <th>2022-04-11</th>\n",
       "      <td>4.6981</td>\n",
       "      <td>116953.0</td>\n",
       "    </tr>\n",
       "    <tr>\n",
       "      <th>2022-04-12</th>\n",
       "      <td>4.6936</td>\n",
       "      <td>116147.0</td>\n",
       "    </tr>\n",
       "    <tr>\n",
       "      <th>2022-04-13</th>\n",
       "      <td>4.6731</td>\n",
       "      <td>116782.0</td>\n",
       "    </tr>\n",
       "    <tr>\n",
       "      <th>2022-04-14</th>\n",
       "      <td>4.6902</td>\n",
       "      <td>116182.0</td>\n",
       "    </tr>\n",
       "    <tr>\n",
       "      <th>2022-04-18</th>\n",
       "      <td>4.7006</td>\n",
       "      <td>115687.0</td>\n",
       "    </tr>\n",
       "    <tr>\n",
       "      <th>...</th>\n",
       "      <td>...</td>\n",
       "      <td>...</td>\n",
       "    </tr>\n",
       "    <tr>\n",
       "      <th>2023-04-03</th>\n",
       "      <td>5.0623</td>\n",
       "      <td>101506.0</td>\n",
       "    </tr>\n",
       "    <tr>\n",
       "      <th>2023-04-04</th>\n",
       "      <td>5.0631</td>\n",
       "      <td>101869.0</td>\n",
       "    </tr>\n",
       "    <tr>\n",
       "      <th>2023-04-05</th>\n",
       "      <td>5.0707</td>\n",
       "      <td>100978.0</td>\n",
       "    </tr>\n",
       "    <tr>\n",
       "      <th>2023-04-06</th>\n",
       "      <td>5.0332</td>\n",
       "      <td>100822.0</td>\n",
       "    </tr>\n",
       "    <tr>\n",
       "      <th>2023-04-10</th>\n",
       "      <td>5.0544</td>\n",
       "      <td>101847.0</td>\n",
       "    </tr>\n",
       "  </tbody>\n",
       "</table>\n",
       "<p>250 rows × 2 columns</p>\n",
       "</div>"
      ],
      "text/plain": [
       "             dolar  ibovespa\n",
       "Date                        \n",
       "2022-04-11  4.6981  116953.0\n",
       "2022-04-12  4.6936  116147.0\n",
       "2022-04-13  4.6731  116782.0\n",
       "2022-04-14  4.6902  116182.0\n",
       "2022-04-18  4.7006  115687.0\n",
       "...            ...       ...\n",
       "2023-04-03  5.0623  101506.0\n",
       "2023-04-04  5.0631  101869.0\n",
       "2023-04-05  5.0707  100978.0\n",
       "2023-04-06  5.0332  100822.0\n",
       "2023-04-10  5.0544  101847.0\n",
       "\n",
       "[250 rows x 2 columns]"
      ]
     },
     "execution_count": 6,
     "metadata": {},
     "output_type": "execute_result"
    }
   ],
   "source": [
    "# Pegando isoladamente os dados de fechamento\n",
    "dados_fechamento = dados_mercado['Adj Close']\n",
    "\n",
    "# Renomeando as colunas de ativo\n",
    "dados_fechamento.columns = ['dolar', 'ibovespa']\n",
    "\n",
    "# limpandos os dados faltantes que estão como NaN, estes dados não existem devido a não abertura da bolsa.\n",
    "dados_fechamento = dados_fechamento.dropna()\n",
    "\n",
    "dados_fechamento"
   ]
  },
  {
   "cell_type": "markdown",
   "id": "89833180",
   "metadata": {},
   "source": [
    "# Passo 3.2: Manipulando os dados - Criando tabelas com outros timeframes. "
   ]
  },
  {
   "cell_type": "code",
   "execution_count": 7,
   "id": "11b008d3",
   "metadata": {},
   "outputs": [
    {
     "data": {
      "text/html": [
       "<div>\n",
       "<style scoped>\n",
       "    .dataframe tbody tr th:only-of-type {\n",
       "        vertical-align: middle;\n",
       "    }\n",
       "\n",
       "    .dataframe tbody tr th {\n",
       "        vertical-align: top;\n",
       "    }\n",
       "\n",
       "    .dataframe thead th {\n",
       "        text-align: right;\n",
       "    }\n",
       "</style>\n",
       "<table border=\"1\" class=\"dataframe\">\n",
       "  <thead>\n",
       "    <tr style=\"text-align: right;\">\n",
       "      <th></th>\n",
       "      <th>dolar</th>\n",
       "      <th>ibovespa</th>\n",
       "    </tr>\n",
       "    <tr>\n",
       "      <th>Date</th>\n",
       "      <th></th>\n",
       "      <th></th>\n",
       "    </tr>\n",
       "  </thead>\n",
       "  <tbody>\n",
       "    <tr>\n",
       "      <th>2022-04-30</th>\n",
       "      <td>4.9378</td>\n",
       "      <td>107876.0</td>\n",
       "    </tr>\n",
       "    <tr>\n",
       "      <th>2022-05-31</th>\n",
       "      <td>4.7524</td>\n",
       "      <td>111351.0</td>\n",
       "    </tr>\n",
       "    <tr>\n",
       "      <th>2022-06-30</th>\n",
       "      <td>5.1809</td>\n",
       "      <td>98542.0</td>\n",
       "    </tr>\n",
       "    <tr>\n",
       "      <th>2022-07-31</th>\n",
       "      <td>5.1827</td>\n",
       "      <td>103165.0</td>\n",
       "    </tr>\n",
       "    <tr>\n",
       "      <th>2022-08-31</th>\n",
       "      <td>5.1219</td>\n",
       "      <td>109523.0</td>\n",
       "    </tr>\n",
       "    <tr>\n",
       "      <th>2022-09-30</th>\n",
       "      <td>5.3962</td>\n",
       "      <td>110037.0</td>\n",
       "    </tr>\n",
       "    <tr>\n",
       "      <th>2022-10-31</th>\n",
       "      <td>5.2885</td>\n",
       "      <td>116037.0</td>\n",
       "    </tr>\n",
       "    <tr>\n",
       "      <th>2022-11-30</th>\n",
       "      <td>5.2682</td>\n",
       "      <td>112486.0</td>\n",
       "    </tr>\n",
       "    <tr>\n",
       "      <th>2022-12-31</th>\n",
       "      <td>5.2668</td>\n",
       "      <td>110031.0</td>\n",
       "    </tr>\n",
       "    <tr>\n",
       "      <th>2023-01-31</th>\n",
       "      <td>5.1149</td>\n",
       "      <td>113532.0</td>\n",
       "    </tr>\n",
       "    <tr>\n",
       "      <th>2023-02-28</th>\n",
       "      <td>5.1997</td>\n",
       "      <td>104932.0</td>\n",
       "    </tr>\n",
       "    <tr>\n",
       "      <th>2023-03-31</th>\n",
       "      <td>5.0927</td>\n",
       "      <td>101882.0</td>\n",
       "    </tr>\n",
       "    <tr>\n",
       "      <th>2023-04-30</th>\n",
       "      <td>5.0544</td>\n",
       "      <td>101847.0</td>\n",
       "    </tr>\n",
       "  </tbody>\n",
       "</table>\n",
       "</div>"
      ],
      "text/plain": [
       "             dolar  ibovespa\n",
       "Date                        \n",
       "2022-04-30  4.9378  107876.0\n",
       "2022-05-31  4.7524  111351.0\n",
       "2022-06-30  5.1809   98542.0\n",
       "2022-07-31  5.1827  103165.0\n",
       "2022-08-31  5.1219  109523.0\n",
       "2022-09-30  5.3962  110037.0\n",
       "2022-10-31  5.2885  116037.0\n",
       "2022-11-30  5.2682  112486.0\n",
       "2022-12-31  5.2668  110031.0\n",
       "2023-01-31  5.1149  113532.0\n",
       "2023-02-28  5.1997  104932.0\n",
       "2023-03-31  5.0927  101882.0\n",
       "2023-04-30  5.0544  101847.0"
      ]
     },
     "execution_count": 7,
     "metadata": {},
     "output_type": "execute_result"
    }
   ],
   "source": [
    "# Manipulando os dados para exibir os dados de fechamento mensal\n",
    "dados_fechamento_mensal = dados_fechamento.resample(\"M\").last()\n",
    "\n",
    "dados_fechamento_mensal"
   ]
  },
  {
   "cell_type": "code",
   "execution_count": 8,
   "id": "eb0649b5",
   "metadata": {},
   "outputs": [
    {
     "data": {
      "text/html": [
       "<div>\n",
       "<style scoped>\n",
       "    .dataframe tbody tr th:only-of-type {\n",
       "        vertical-align: middle;\n",
       "    }\n",
       "\n",
       "    .dataframe tbody tr th {\n",
       "        vertical-align: top;\n",
       "    }\n",
       "\n",
       "    .dataframe thead th {\n",
       "        text-align: right;\n",
       "    }\n",
       "</style>\n",
       "<table border=\"1\" class=\"dataframe\">\n",
       "  <thead>\n",
       "    <tr style=\"text-align: right;\">\n",
       "      <th></th>\n",
       "      <th>dolar</th>\n",
       "      <th>ibovespa</th>\n",
       "    </tr>\n",
       "    <tr>\n",
       "      <th>Date</th>\n",
       "      <th></th>\n",
       "      <th></th>\n",
       "    </tr>\n",
       "  </thead>\n",
       "  <tbody>\n",
       "    <tr>\n",
       "      <th>2022-12-31</th>\n",
       "      <td>5.2668</td>\n",
       "      <td>110031.0</td>\n",
       "    </tr>\n",
       "    <tr>\n",
       "      <th>2023-12-31</th>\n",
       "      <td>5.0544</td>\n",
       "      <td>101847.0</td>\n",
       "    </tr>\n",
       "  </tbody>\n",
       "</table>\n",
       "</div>"
      ],
      "text/plain": [
       "             dolar  ibovespa\n",
       "Date                        \n",
       "2022-12-31  5.2668  110031.0\n",
       "2023-12-31  5.0544  101847.0"
      ]
     },
     "execution_count": 8,
     "metadata": {},
     "output_type": "execute_result"
    }
   ],
   "source": [
    "# Manipulando os dados para exibir os dados de fechamento anual\n",
    "dados_fechamento_anual = dados_fechamento.resample(\"Y\").last()\n",
    "\n",
    "dados_fechamento_anual"
   ]
  },
  {
   "cell_type": "markdown",
   "id": "8cda978d",
   "metadata": {},
   "source": [
    "# Passo 4 - Calcular fechamento do dia, retorno no ano e retorno no mês dos ativos. "
   ]
  },
  {
   "cell_type": "code",
   "execution_count": 9,
   "id": "41672272",
   "metadata": {
    "scrolled": false
   },
   "outputs": [],
   "source": [
    "#Utilizando a função pct.change para calcular a porcentagem de retorno para cada timeframe.\n",
    "# OBS: função dropna está sendo utilizada pois não há dados para o primeiro item.\n",
    "\n",
    "retorno_diario = dados_fechamento.pct_change().dropna()\n",
    "retorno_mensal = dados_fechamento_mensal.pct_change().dropna()\n",
    "retorno_anual = dados_fechamento_anual.pct_change().dropna()"
   ]
  },
  {
   "cell_type": "code",
   "execution_count": 10,
   "id": "b0cdf9cc",
   "metadata": {},
   "outputs": [
    {
     "data": {
      "text/html": [
       "<div>\n",
       "<style scoped>\n",
       "    .dataframe tbody tr th:only-of-type {\n",
       "        vertical-align: middle;\n",
       "    }\n",
       "\n",
       "    .dataframe tbody tr th {\n",
       "        vertical-align: top;\n",
       "    }\n",
       "\n",
       "    .dataframe thead th {\n",
       "        text-align: right;\n",
       "    }\n",
       "</style>\n",
       "<table border=\"1\" class=\"dataframe\">\n",
       "  <thead>\n",
       "    <tr style=\"text-align: right;\">\n",
       "      <th></th>\n",
       "      <th>dolar</th>\n",
       "      <th>ibovespa</th>\n",
       "    </tr>\n",
       "    <tr>\n",
       "      <th>Date</th>\n",
       "      <th></th>\n",
       "      <th></th>\n",
       "    </tr>\n",
       "  </thead>\n",
       "  <tbody>\n",
       "    <tr>\n",
       "      <th>2022-04-12</th>\n",
       "      <td>-0.000958</td>\n",
       "      <td>-0.006892</td>\n",
       "    </tr>\n",
       "    <tr>\n",
       "      <th>2022-04-13</th>\n",
       "      <td>-0.004368</td>\n",
       "      <td>0.005467</td>\n",
       "    </tr>\n",
       "    <tr>\n",
       "      <th>2022-04-14</th>\n",
       "      <td>0.003659</td>\n",
       "      <td>-0.005138</td>\n",
       "    </tr>\n",
       "    <tr>\n",
       "      <th>2022-04-18</th>\n",
       "      <td>0.002217</td>\n",
       "      <td>-0.004261</td>\n",
       "    </tr>\n",
       "    <tr>\n",
       "      <th>2022-04-19</th>\n",
       "      <td>-0.010339</td>\n",
       "      <td>-0.005446</td>\n",
       "    </tr>\n",
       "    <tr>\n",
       "      <th>...</th>\n",
       "      <td>...</td>\n",
       "      <td>...</td>\n",
       "    </tr>\n",
       "    <tr>\n",
       "      <th>2023-04-03</th>\n",
       "      <td>-0.005969</td>\n",
       "      <td>-0.003691</td>\n",
       "    </tr>\n",
       "    <tr>\n",
       "      <th>2023-04-04</th>\n",
       "      <td>0.000158</td>\n",
       "      <td>0.003576</td>\n",
       "    </tr>\n",
       "    <tr>\n",
       "      <th>2023-04-05</th>\n",
       "      <td>0.001501</td>\n",
       "      <td>-0.008747</td>\n",
       "    </tr>\n",
       "    <tr>\n",
       "      <th>2023-04-06</th>\n",
       "      <td>-0.007396</td>\n",
       "      <td>-0.001545</td>\n",
       "    </tr>\n",
       "    <tr>\n",
       "      <th>2023-04-10</th>\n",
       "      <td>0.004212</td>\n",
       "      <td>0.010166</td>\n",
       "    </tr>\n",
       "  </tbody>\n",
       "</table>\n",
       "<p>249 rows × 2 columns</p>\n",
       "</div>"
      ],
      "text/plain": [
       "               dolar  ibovespa\n",
       "Date                          \n",
       "2022-04-12 -0.000958 -0.006892\n",
       "2022-04-13 -0.004368  0.005467\n",
       "2022-04-14  0.003659 -0.005138\n",
       "2022-04-18  0.002217 -0.004261\n",
       "2022-04-19 -0.010339 -0.005446\n",
       "...              ...       ...\n",
       "2023-04-03 -0.005969 -0.003691\n",
       "2023-04-04  0.000158  0.003576\n",
       "2023-04-05  0.001501 -0.008747\n",
       "2023-04-06 -0.007396 -0.001545\n",
       "2023-04-10  0.004212  0.010166\n",
       "\n",
       "[249 rows x 2 columns]"
      ]
     },
     "execution_count": 10,
     "metadata": {},
     "output_type": "execute_result"
    }
   ],
   "source": [
    "retorno_diario"
   ]
  },
  {
   "cell_type": "code",
   "execution_count": 11,
   "id": "ad4f9e3e",
   "metadata": {},
   "outputs": [
    {
     "data": {
      "text/html": [
       "<div>\n",
       "<style scoped>\n",
       "    .dataframe tbody tr th:only-of-type {\n",
       "        vertical-align: middle;\n",
       "    }\n",
       "\n",
       "    .dataframe tbody tr th {\n",
       "        vertical-align: top;\n",
       "    }\n",
       "\n",
       "    .dataframe thead th {\n",
       "        text-align: right;\n",
       "    }\n",
       "</style>\n",
       "<table border=\"1\" class=\"dataframe\">\n",
       "  <thead>\n",
       "    <tr style=\"text-align: right;\">\n",
       "      <th></th>\n",
       "      <th>dolar</th>\n",
       "      <th>ibovespa</th>\n",
       "    </tr>\n",
       "    <tr>\n",
       "      <th>Date</th>\n",
       "      <th></th>\n",
       "      <th></th>\n",
       "    </tr>\n",
       "  </thead>\n",
       "  <tbody>\n",
       "    <tr>\n",
       "      <th>2022-05-31</th>\n",
       "      <td>-0.037547</td>\n",
       "      <td>0.032213</td>\n",
       "    </tr>\n",
       "    <tr>\n",
       "      <th>2022-06-30</th>\n",
       "      <td>0.090165</td>\n",
       "      <td>-0.115033</td>\n",
       "    </tr>\n",
       "    <tr>\n",
       "      <th>2022-07-31</th>\n",
       "      <td>0.000347</td>\n",
       "      <td>0.046914</td>\n",
       "    </tr>\n",
       "    <tr>\n",
       "      <th>2022-08-31</th>\n",
       "      <td>-0.011731</td>\n",
       "      <td>0.061629</td>\n",
       "    </tr>\n",
       "    <tr>\n",
       "      <th>2022-09-30</th>\n",
       "      <td>0.053554</td>\n",
       "      <td>0.004693</td>\n",
       "    </tr>\n",
       "    <tr>\n",
       "      <th>2022-10-31</th>\n",
       "      <td>-0.019959</td>\n",
       "      <td>0.054527</td>\n",
       "    </tr>\n",
       "    <tr>\n",
       "      <th>2022-11-30</th>\n",
       "      <td>-0.003839</td>\n",
       "      <td>-0.030602</td>\n",
       "    </tr>\n",
       "    <tr>\n",
       "      <th>2022-12-31</th>\n",
       "      <td>-0.000266</td>\n",
       "      <td>-0.021825</td>\n",
       "    </tr>\n",
       "    <tr>\n",
       "      <th>2023-01-31</th>\n",
       "      <td>-0.028841</td>\n",
       "      <td>0.031818</td>\n",
       "    </tr>\n",
       "    <tr>\n",
       "      <th>2023-02-28</th>\n",
       "      <td>0.016579</td>\n",
       "      <td>-0.075750</td>\n",
       "    </tr>\n",
       "    <tr>\n",
       "      <th>2023-03-31</th>\n",
       "      <td>-0.020578</td>\n",
       "      <td>-0.029066</td>\n",
       "    </tr>\n",
       "    <tr>\n",
       "      <th>2023-04-30</th>\n",
       "      <td>-0.007521</td>\n",
       "      <td>-0.000344</td>\n",
       "    </tr>\n",
       "  </tbody>\n",
       "</table>\n",
       "</div>"
      ],
      "text/plain": [
       "               dolar  ibovespa\n",
       "Date                          \n",
       "2022-05-31 -0.037547  0.032213\n",
       "2022-06-30  0.090165 -0.115033\n",
       "2022-07-31  0.000347  0.046914\n",
       "2022-08-31 -0.011731  0.061629\n",
       "2022-09-30  0.053554  0.004693\n",
       "2022-10-31 -0.019959  0.054527\n",
       "2022-11-30 -0.003839 -0.030602\n",
       "2022-12-31 -0.000266 -0.021825\n",
       "2023-01-31 -0.028841  0.031818\n",
       "2023-02-28  0.016579 -0.075750\n",
       "2023-03-31 -0.020578 -0.029066\n",
       "2023-04-30 -0.007521 -0.000344"
      ]
     },
     "execution_count": 11,
     "metadata": {},
     "output_type": "execute_result"
    }
   ],
   "source": [
    "retorno_mensal"
   ]
  },
  {
   "cell_type": "code",
   "execution_count": 12,
   "id": "f900ba74",
   "metadata": {},
   "outputs": [
    {
     "data": {
      "text/html": [
       "<div>\n",
       "<style scoped>\n",
       "    .dataframe tbody tr th:only-of-type {\n",
       "        vertical-align: middle;\n",
       "    }\n",
       "\n",
       "    .dataframe tbody tr th {\n",
       "        vertical-align: top;\n",
       "    }\n",
       "\n",
       "    .dataframe thead th {\n",
       "        text-align: right;\n",
       "    }\n",
       "</style>\n",
       "<table border=\"1\" class=\"dataframe\">\n",
       "  <thead>\n",
       "    <tr style=\"text-align: right;\">\n",
       "      <th></th>\n",
       "      <th>dolar</th>\n",
       "      <th>ibovespa</th>\n",
       "    </tr>\n",
       "    <tr>\n",
       "      <th>Date</th>\n",
       "      <th></th>\n",
       "      <th></th>\n",
       "    </tr>\n",
       "  </thead>\n",
       "  <tbody>\n",
       "    <tr>\n",
       "      <th>2023-12-31</th>\n",
       "      <td>-0.040328</td>\n",
       "      <td>-0.074379</td>\n",
       "    </tr>\n",
       "  </tbody>\n",
       "</table>\n",
       "</div>"
      ],
      "text/plain": [
       "               dolar  ibovespa\n",
       "Date                          \n",
       "2023-12-31 -0.040328 -0.074379"
      ]
     },
     "execution_count": 12,
     "metadata": {},
     "output_type": "execute_result"
    }
   ],
   "source": [
    "retorno_anual"
   ]
  },
  {
   "cell_type": "markdown",
   "id": "0d0bcc0e",
   "metadata": {},
   "source": [
    "# Passo 5 - Localizar o fechamento do dia anterior, retorno no mês e retorno no ano.\n",
    "\n",
    "* Loc -> referenciar elementos a partir do nome\n",
    "* Iloc -> selecionar elementos como uma matriz"
   ]
  },
  {
   "cell_type": "markdown",
   "id": "0acb8fcf",
   "metadata": {},
   "source": [
    "### Retornos diarios - Dolar e Ibovespa"
   ]
  },
  {
   "cell_type": "code",
   "execution_count": 13,
   "id": "c6267439",
   "metadata": {},
   "outputs": [
    {
     "name": "stdout",
     "output_type": "stream",
     "text": [
      "retorno diario do dolar:  0.0042120680581523295\n",
      "retorno diario do Ibovespa:  0.010166431929539144\n"
     ]
    }
   ],
   "source": [
    "retorno_dia_dolar = retorno_diario.iloc[-1, 0]\n",
    "retorno_dia_ibov = retorno_diario.iloc[-1, 1]\n",
    "\n",
    "print(\"retorno diario do dolar: \", retorno_dia_dolar)\n",
    "print(\"retorno diario do Ibovespa: \", retorno_dia_ibov)"
   ]
  },
  {
   "cell_type": "code",
   "execution_count": 14,
   "id": "0196d43d",
   "metadata": {},
   "outputs": [],
   "source": [
    "# Tratando os dados para arrendondar a porcentagem e trazer somente duas casas decimais\n",
    "\n",
    "retorno_dia_dolar = round(retorno_dia_dolar * 100, 2)\n",
    "\n",
    "retorno_dia_ibov = round(retorno_dia_ibov * 100, 2)"
   ]
  },
  {
   "cell_type": "markdown",
   "id": "b64d4b3f",
   "metadata": {},
   "source": [
    "### Retornos mensais - Dolar e Ibovespa"
   ]
  },
  {
   "cell_type": "code",
   "execution_count": 15,
   "id": "fc4a9725",
   "metadata": {},
   "outputs": [
    {
     "name": "stdout",
     "output_type": "stream",
     "text": [
      "retorno mensal do dolar:  -0.007520575991047385\n",
      "retorno mensal do Ibovespa:  -0.000343534677371915\n"
     ]
    }
   ],
   "source": [
    "retorno_mensal_dolar = retorno_mensal.iloc[-1, 0]\n",
    "retorno_mensal_ibov = retorno_mensal.iloc[-1, 1]\n",
    "\n",
    "print(\"retorno mensal do dolar: \", retorno_mensal_dolar)\n",
    "print(\"retorno mensal do Ibovespa: \", retorno_mensal_ibov)"
   ]
  },
  {
   "cell_type": "code",
   "execution_count": 16,
   "id": "3bbcd1b4",
   "metadata": {},
   "outputs": [],
   "source": [
    "# Tratando os dados para arrendondar a porcentagem e trazer somente duas casas decimais\n",
    "\n",
    "retorno_mensal_dolar = round(retorno_mensal_dolar * 100, 2)\n",
    "\n",
    "retorno_mensal_ibov = round(retorno_mensal_ibov * 100, 2)"
   ]
  },
  {
   "cell_type": "markdown",
   "id": "c5e58771",
   "metadata": {},
   "source": [
    "### Retorno anual - Dolar e Ibovespa"
   ]
  },
  {
   "cell_type": "code",
   "execution_count": 17,
   "id": "218eaaa8",
   "metadata": {},
   "outputs": [
    {
     "name": "stdout",
     "output_type": "stream",
     "text": [
      "retorno anual do dolar:  -0.040328085843002626\n",
      "retorno anual do Ibovespa:  -0.07437903863456663\n"
     ]
    }
   ],
   "source": [
    "retorno_anual_dolar = retorno_anual.iloc[-1, 0]\n",
    "retorno_anual_ibov = retorno_anual.iloc[-1, 1]\n",
    "\n",
    "\n",
    "print(\"retorno anual do dolar: \", retorno_anual_dolar)\n",
    "print(\"retorno anual do Ibovespa: \", retorno_anual_ibov)"
   ]
  },
  {
   "cell_type": "code",
   "execution_count": 18,
   "id": "e3acfc4c",
   "metadata": {},
   "outputs": [],
   "source": [
    "# Tratando os dados para arrendondar a porcentagem e trazer somente duas casas decimais\n",
    "\n",
    "retorno_anual_dolar = round(retorno_anual_dolar * 100, 2)\n",
    "\n",
    "retorno_anual_ibov = round(retorno_anual_ibov * 100, 2)"
   ]
  },
  {
   "cell_type": "markdown",
   "id": "9b23491f",
   "metadata": {},
   "source": [
    "# Passo 6 - Fazer os gráficos da performance do último dos ativos"
   ]
  },
  {
   "cell_type": "code",
   "execution_count": 19,
   "id": "8f72b381",
   "metadata": {},
   "outputs": [
    {
     "data": {
      "image/png": "[encoded data removed]",
      "text/plain": [
       "<Figure size 432x288 with 1 Axes>"
      ]
     },
     "metadata": {},
     "output_type": "display_data"
    }
   ],
   "source": [
    "plt.style.use(\"cyberpunk\")\n",
    "\n",
    "dados_fechamento.plot(y = \"dolar\", use_index = True, legend = False)\n",
    "\n",
    "plt.title(\"Dados Fechamento Dolar\")\n",
    "\n",
    "plt.savefig(\"Dolar.png\", dpi = 300)\n",
    "\n",
    "plt.show()"
   ]
  },
  {
   "cell_type": "code",
   "execution_count": 20,
   "id": "6b3c44c3",
   "metadata": {},
   "outputs": [
    {
     "data": {
      "image/png": "[encoded data removed]",
      "text/plain": [
       "<Figure size 432x288 with 1 Axes>"
      ]
     },
     "metadata": {},
     "output_type": "display_data"
    }
   ],
   "source": [
    "plt.style.use(\"cyberpunk\")\n",
    "\n",
    "dados_fechamento.plot(y = \"ibovespa\", use_index = True, legend = False)\n",
    "\n",
    "plt.title(\"Dados Fechamento Ibovespa\")\n",
    "\n",
    "plt.savefig(\"Ibovespa.png\", dpi = 300)\n",
    "\n",
    "plt.show()"
   ]
  },
  {
   "cell_type": "markdown",
   "id": "e3f516b6",
   "metadata": {},
   "source": [
    "# Passo 7: Enviar e-mail\n",
    "\n",
    "https://myaccount.google.com/apppasswords"
   ]
  },
  {
   "cell_type": "code",
   "execution_count": 21,
   "id": "bb1d8729",
   "metadata": {},
   "outputs": [],
   "source": [
    "# Pacote de gerenciamento de variaveis locais no python\n",
    "import os\n",
    "from dotenv import load_dotenv"
   ]
  },
  {
   "cell_type": "code",
   "execution_count": 22,
   "id": "5d75c7ae",
   "metadata": {
    "scrolled": true
   },
   "outputs": [
    {
     "data": {
      "text/plain": [
       "True"
      ]
     },
     "execution_count": 22,
     "metadata": {},
     "output_type": "execute_result"
    }
   ],
   "source": [
    "load_dotenv()"
   ]
  },
  {
   "cell_type": "code",
   "execution_count": 23,
   "id": "c0676126",
   "metadata": {},
   "outputs": [],
   "source": [
    "# Recebendo a senha do e-mail que está em um arquivo .env no meu computador\n",
    "\n",
    "senha = os.environ.get(\"senha\")\n",
    "email = 'leogrochoski10@gmail.com'"
   ]
  },
  {
   "cell_type": "code",
   "execution_count": 34,
   "id": "47bc9fb1",
   "metadata": {},
   "outputs": [],
   "source": [
    "# Preparando para enviar e-mail, setando assunto, e-mail de envio e destinatario.\n",
    "\n",
    "msg = EmailMessage()\n",
    "msg['Subject'] = \"Enviando e-mail com o Python\"\n",
    "msg['From'] = 'leogrochoski10@gmail.com'\n",
    "msg['To'] = 'brenno@varos.com.br'\n",
    "\n",
    "# Setando mensagem enviada no corpo do e-mail\n",
    "\n",
    "msg.set_content(f'''Prezado diretor, segue o relatório diário:\n",
    "\n",
    "Bolsa:\n",
    "\n",
    "No ano o Ibovespa está tendo uma rentabilidade de {retorno_anual_ibov}%, \n",
    "enquanto no mês a rentabilidade é de {retorno_mensal_ibov}%.\n",
    "\n",
    "No último dia útil, o fechamento do Ibovespa foi de {retorno_dia_ibov}%.\n",
    "\n",
    "Dólar:\n",
    "\n",
    "No ano o Dólar está tendo uma rentabilidade de {retorno_anual_dolar}%, \n",
    "enquanto no mês a rentabilidade é de {retorno_mensal_dolar}%.\n",
    "\n",
    "No último dia útil, o fechamento do Dólar foi de {retorno_dia_dolar}%.\n",
    "\n",
    "\n",
    "Abs,\n",
    "\n",
    "O melhor estagiário do mundo\n",
    "\n",
    "''')"
   ]
  },
  {
   "cell_type": "code",
   "execution_count": 35,
   "id": "0178d9ed",
   "metadata": {},
   "outputs": [],
   "source": [
    "# Incluindo anexos ao e-mail\n",
    "\n",
    "with open('dolar.png', 'rb') as content_file:\n",
    "    content = content_file.read()\n",
    "    msg.add_attachment(content, maintype='application', subtype='png', filename='dolar.png')\n",
    "    \n",
    "    \n",
    "with open('ibovespa.png', 'rb') as content_file:\n",
    "    content = content_file.read()\n",
    "    msg.add_attachment(content, maintype='application', subtype='png', filename='ibovespa.png')"
   ]
  },
  {
   "cell_type": "code",
   "execution_count": 36,
   "id": "1a559197",
   "metadata": {},
   "outputs": [],
   "source": [
    "# Conectando ao servidor google e enviando e-mail\n",
    "\n",
    "with smtplib.SMTP_SSL('smtp.gmail.com', 465) as smtp:\n",
    "    \n",
    "    smtp.login(email, senha)\n",
    "    smtp.send_message(msg)"
   ]
  },
  {
   "cell_type": "code",
   "execution_count": null,
   "id": "ddf92ad4",
   "metadata": {},
   "outputs": [],
   "source": []
  },
  {
   "cell_type": "code",
   "execution_count": null,
   "id": "bb15e5f4",
   "metadata": {},
   "outputs": [],
   "source": []
  },
  {
   "cell_type": "code",
   "execution_count": null,
   "id": "8a3fffbd",
   "metadata": {},
   "outputs": [],
   "source": []
  },
  {
   "cell_type": "code",
   "execution_count": null,
   "id": "347a740d",
   "metadata": {},
   "outputs": [],
   "source": []
  },
  {
   "cell_type": "code",
   "execution_count": null,
   "id": "fc2fec41",
   "metadata": {},
   "outputs": [],
   "source": []
  },
  {
   "cell_type": "code",
   "execution_count": null,
   "id": "614daa23",
   "metadata": {},
   "outputs": [],
   "source": []
  },
  {
   "cell_type": "code",
   "execution_count": null,
   "id": "cddd151c",
   "metadata": {},
   "outputs": [],
   "source": []
  },
  {
   "cell_type": "code",
   "execution_count": null,
   "id": "4bf21526",
   "metadata": {},
   "outputs": [],
   "source": []
  },
  {
   "cell_type": "code",
   "execution_count": null,
   "id": "09b95897",
   "metadata": {},
   "outputs": [],
   "source": []
  }
 ],
 "metadata": {
  "kernelspec": {
   "display_name": "Python 3 (ipykernel)",
   "language": "python",
   "name": "python3"
  },
  "language_info": {
   "codemirror_mode": {
    "name": "ipython",
    "version": 3
   },
   "file_extension": ".py",
   "mimetype": "text/x-python",
   "name": "python",
   "nbconvert_exporter": "python",
   "pygments_lexer": "ipython3",
   "version": "3.9.12"
  }
 },
 "nbformat": 4,
 "nbformat_minor": 5
}
